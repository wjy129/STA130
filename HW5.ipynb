{
 "cells": [
  {
   "cell_type": "markdown",
   "id": "63440408",
   "metadata": {},
   "source": [
    "1. \n",
    "  The main difference between ideas which can be or cannot be examined is whether or not it includes statistical data or number.\n",
    "  A good null hypothesis is clear, easy to compare and neutral.\n",
    "  An alternative hypothesis is complement of null hypothesis."
   ]
  },
  {
   "cell_type": "markdown",
   "id": "abca90a2",
   "metadata": {},
   "source": [
    "2. \n",
    "  The sample values xi is the real value chosen by sample. \n",
    "  The observed sample average is the sample mean.\n",
    "  The actual value of mean is the real population mean.\n",
    "  u0 is the mean estimated by the null hypothesis.\n"
   ]
  },
  {
   "cell_type": "markdown",
   "id": "a2c9ebcb",
   "metadata": {},
   "source": [
    "3. \n",
    "  Using the same example of court, we assume the suspect is innocent. Then with the process of finding the evidence(like p-value), we can check the probability of suspect is innocent.If the probability is very low, we know the null hypothesis is false."
   ]
  },
  {
   "cell_type": "markdown",
   "id": "82d1d757",
   "metadata": {},
   "source": [
    "4.\n",
    " The p-value measures how well the data fits with the null hypothesis (H₀). A smaller p-value means the data is less likely to occur if the null hypothesis is true. So, the smaller the p-value, the more unreasonable the null hypothesis seems, giving us more reason to reject it."
   ]
  },
  {
   "cell_type": "markdown",
   "id": "99e15803",
   "metadata": {},
   "source": [
    "5.\n",
    "  The probability of tilting either to the right or left is 50%\n",
    "  More couples tilt their heads to the right than left.\n",
    "  Flip a \"50/50 coin\" (right or left tilt) 124 times and count how many times the result is \"right.\" Repeat this simulation many times (e.g., 10,000 times) to build a distribution of possible outcomes under the null hypothesis.\n",
    "  Compare the observed count of 80 right-tilting couples to the simulated results to calculate the p-value, which represents the probability of observing 80 or more right tilts under the null hypothesis.\n"
   ]
  },
  {
   "cell_type": "markdown",
   "id": "7cf99a9d",
   "metadata": {},
   "source": [
    "6.\n",
    "  NO. It only the observed data is not likely under the null hypothesis. High value of p-value is helpful to reject the null hypothesis, but it doesn't definitively prove innocence."
   ]
  },
  {
   "cell_type": "code",
   "execution_count": null,
   "id": "aada8be6",
   "metadata": {},
   "outputs": [],
   "source": [
    "### 7\n",
    "import numpy as np\n",
    "\n",
    "# Assuming 'differences' is an array of the differences between FinalHealthScore and InitialHealthScore\n",
    "observed_mean_diff = np.mean(differences)\n",
    "bootstrap_mean_diffs = []  # Store the mean differences from bootstrapping\n",
    "\n",
    "# Perform bootstrapping\n",
    "for _ in range(10000):  # 10,000 bootstrap samples\n",
    "    resampled_data = np.random.choice(differences, size=len(differences), replace=True)\n",
    "    bootstrap_mean_diffs.append(np.mean(resampled_data))\n",
    "\n",
    "# Calculate one-tailed p-value\n",
    "p_value_one_tailed = np.mean(bootstrap_mean_diffs >= observed_mean_diff)\n",
    "\n",
    "print(f\"Observed Mean Difference: {observed_mean_diff}\")\n",
    "print(f\"One-Tailed p-value: {p_value_one_tailed}\")\n",
    "\n",
    "  "
   ]
  },
  {
   "cell_type": "markdown",
   "id": "f6b6622c",
   "metadata": {},
   "source": [
    "Two-tailed test: Checks for extreme values on both sides of the distribution (greater or less than the observed value). It tests whether there's any significant difference in either direction.\n",
    "One-tailed test: Focuses on extreme values in one direction only (in this case, testing if the final health score is greater than the initial score). It only checks for improvement, not worsening.\n"
   ]
  },
  {
   "cell_type": "markdown",
   "id": "664a8609",
   "metadata": {},
   "source": [
    "https://chatgpt.com/share/670f1989-2094-8001-ae11-444bdeaaab20"
   ]
  },
  {
   "cell_type": "markdown",
   "id": "deb69585",
   "metadata": {},
   "source": [
    "1. Clarity of Documentation and Written Report\n",
    "Ensure that your report and code are well-organized, with clear explanations of each step and the rationale for choosing specific statistical methods. You can use the outline provided here for structure and clarity.\n",
    "\n",
    "2. Population and Sample\n",
    "Population: All possible STA130 students who could take part in the tea-tasting experiment.\n",
    "Sample: A random sample of 80 STA130 students who each taste one cup of tea and indicate whether they believe the milk or tea was poured first.\n",
    "3. Parameter of Interest\n",
    "The parameter of interest is the proportion of students who can correctly identify whether the tea or milk was poured first in the general STA130 population.\n",
    "4. Test Statistic\n",
    "The observed test statistic is the proportion of correct identifications in the sample:\n",
    "49/80=0.6125\n",
    "5. Null Hypothesis (H₀)\n",
    "Formal Version: The null hypothesis assumes that the students are guessing randomly, implying the true proportion of correct guesses is 0.5 (i.e., the probability of success by chance is 50%).\n",
    "p=0.5\n",
    "6. Alternative Hypothesis (H₁)\n",
    "The alternative hypothesis is that students are better than random guessing and have a higher than 50% chance of correctly identifying which was poured first.\n",
    "p>0.5\n",
    "\n",
    "\n",
    "z=0.21"
   ]
  }
 ],
 "metadata": {
  "kernelspec": {
   "display_name": "Python 3 (ipykernel)",
   "language": "python",
   "name": "python3"
  },
  "language_info": {
   "codemirror_mode": {
    "name": "ipython",
    "version": 3
   },
   "file_extension": ".py",
   "mimetype": "text/x-python",
   "name": "python",
   "nbconvert_exporter": "python",
   "pygments_lexer": "ipython3",
   "version": "3.11.6"
  }
 },
 "nbformat": 4,
 "nbformat_minor": 5
}
