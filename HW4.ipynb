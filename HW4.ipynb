{
 "cells": [
  {
   "cell_type": "code",
   "execution_count": null,
   "id": "e8d7cb64",
   "metadata": {},
   "outputs": [],
   "source": [
    "from IPython.display import YouTubeVideo\n",
    "YouTubeVideo('Xz0x-8-cgaQ', width=800, height=500)"
   ]
  },
  {
   "cell_type": "markdown",
   "id": "66239f0b",
   "metadata": {},
   "source": [
    "1.\n",
    "  SEM measures how much the sample mean is expected to change when you choose different samples from population.\n",
    "The standard devation measures the differences between each data and the mean."
   ]
  },
  {
   "cell_type": "markdown",
   "id": "867ea2e6",
   "metadata": {},
   "source": [
    "2.\n",
    "  Calculate the sample mean\n",
    "  Compute the SEM = s/√n\n",
    "  Determine the z-scole of 97.5% which is 1.96\n",
    "  Calculate the MOE = Z × SEM\n",
    "  CI = (mean - MoE, mean + MOE)"
   ]
  },
  {
   "cell_type": "markdown",
   "id": "77ce88ab",
   "metadata": {},
   "source": [
    "3.\n",
    "  Generate Bootstrapped Samples\n",
    "  Compute the Statistic of Interest\n",
    "  Once you have all the bootstrapped sample means, sort them in ascending order.\n",
    "  A 95% confidence interval corresponds to the 2.5th percentile and the 97.5th percentile of the bootstrapped means.\n",
    "  The 95% bootstrapped confidence interval is given by the range between the 2.5th and 97.5th percentiles of the bootstrapped means."
   ]
  },
  {
   "cell_type": "code",
   "execution_count": null,
   "id": "4deb604d",
   "metadata": {},
   "outputs": [],
   "source": [
    "### 4\n",
    "  import numpy as np\n",
    "\n",
    "# Sample data (replace this with your own sample)\n",
    "sample_data = np.array([23, 45, 12, 34, 56, 78, 14, 89, 67, 25])\n",
    "\n",
    "# Define the number of bootstrap resamples\n",
    "n_bootstrap = 1000\n",
    "\n",
    "# Array to store the bootstrapped means (we're using mean initially)\n",
    "bootstrapped_means = np.empty(n_bootstrap)\n",
    "\n",
    "# Generate bootstrap samples and calculate the statistic (mean in this case)\n",
    "for i in range(n_bootstrap):\n",
    "    # Resample the data with replacement\n",
    "    bootstrap_sample = np.random.choice(sample_data, size=len(sample_data), replace=True)\n",
    "    # Compute the sample mean (this can be changed for other statistics)\n",
    "    bootstrapped_means[i] = np.mean(bootstrap_sample)\n",
    "\n",
    "# Compute the 95% confidence interval\n",
    "lower_bound = np.percentile(bootstrapped_means, 2.5)\n",
    "upper_bound = np.percentile(bootstrapped_means, 97.5)\n",
    "\n",
    "print(f\"95% Bootstrap Confidence Interval for the mean: [{lower_bound}, {upper_bound}]\")\n",
    "\n",
    "# ---- Change to compute confidence interval for other statistics ---- #\n",
    "# To compute a confidence interval for the population median instead of the mean:\n",
    "# 1. Replace np.mean(bootstrap_sample) with np.median(bootstrap_sample) below.\n",
    "\n",
    "bootstrapped_medians = np.empty(n_bootstrap)\n",
    "\n",
    "for i in range(n_bootstrap):\n",
    "    # Resample the data with replacement\n",
    "    bootstrap_sample = np.random.choice(sample_data, size=len(sample_data), replace=True)\n",
    "    # Compute the sample median (or other statistic)\n",
    "    bootstrapped_medians[i] = np.median(bootstrap_sample)\n",
    "\n",
    "# Compute the 95% confidence interval for the median\n",
    "lower_bound_median = np.percentile(bootstrapped_medians, 2.5)\n",
    "upper_bound_median = np.percentile(bootstrapped_medians, 97.5)\n",
    "\n",
    "print(f\"95% Bootstrap Confidence Interval for the median: [{lower_bound_median}, {upper_bound_median}]\")\n",
    "\n",
    "\n",
    "  "
   ]
  },
  {
   "cell_type": "markdown",
   "id": "adcc1b3c",
   "metadata": {},
   "source": [
    "5.\n",
    "  The distinction is important because while the sample statistic provides an estimate, it is not the exact value of the population parameter"
   ]
  },
  {
   "cell_type": "markdown",
   "id": "097888e9",
   "metadata": {},
   "source": [
    "6.\n",
    "  The process: First select the dataset of size n. Select random sample and calcaute the statistic of interest. Seclect other samples and repeat calcauting interest. Use the resulting distribution of the statistic to estimate confidence intervals or assess variability.\n",
    "  The purpose: Estimate the variability of the sample without making strong parametric assumpting.\n",
    "  First, calcaute the mean of the mean. Second, generate new samples and calcaute their means. Then, make a distribution of these means. Build a confident interval of 95% which begins at 2.5th, ending at 97.5%. If it is in this interval, it is plausible. "
   ]
  },
  {
   "cell_type": "markdown",
   "id": "65b425e6",
   "metadata": {},
   "source": [
    "7.\n",
    "  When the confidence interval (CI) of a test statistic includes zero, it suggests that zero is a plausible value for the true effect. In hypothesis testing, the null hypothesis (often \"no effect\" or \"no difference\") posits that the true population effect is zero. If zero is within the CI, it means that based on the sample data, the possibility of no effect cannot be ruled out. This leads to \"failing to reject the null hypothesis\" because the data doesn't provide strong enough evidence to conclude the effect is different from zero.\n",
    "\n",
    "  On the other hand, if the confidence interval does not include zero, it suggests that the true effect is significantly different from zero. This would provide evidence against the null hypothesis, leading us \"to reject the null hypothesis\" because the data indicates that the effect is likely not zero.\n",
    "\n"
   ]
  },
  {
   "cell_type": "code",
   "execution_count": null,
   "id": "4b1446c9",
   "metadata": {},
   "outputs": [],
   "source": [
    "### 8.\n",
    "import pandas as pd\n",
    "import matplotlib.pyplot as plt\n",
    "\n",
    "# Assuming you have already read the CSV data into a DataFrame called df_read\n",
    "\n",
    "# Creating a histogram to compare Initial and Final Health Scores\n",
    "plt.figure(figsize=(10,6))\n",
    "\n",
    "# Plotting the histogram for Initial Health Scores\n",
    "plt.hist(df_read['InitialHealthScore'], bins=5, alpha=0.7, label='Initial Health Score', edgecolor='black')\n",
    "\n",
    "# Plotting the histogram for Final Health Scores\n",
    "plt.hist(df_read['FinalHealthScore'], bins=5, alpha=0.7, label='Final Health Score', edgecolor='black')\n",
    "\n",
    "# Adding title, labels, legend, and grid\n",
    "plt.title('Distribution of Initial and Final Health Scores')\n",
    "plt.xlabel('Health Score')\n",
    "plt.ylabel('Frequency')\n",
    "plt.legend()\n",
    "plt.grid(True)\n",
    "\n",
    "# Showing the plot\n",
    "plt.show()\n"
   ]
  },
  {
   "cell_type": "markdown",
   "id": "016f5f32",
   "metadata": {},
   "source": [
    "  Based on the bootstrapped distribution of mean, the 95% confidence interval is between 0.7 and 5.5. It maens the drug has positive effort."
   ]
  },
  {
   "cell_type": "markdown",
   "id": "1e7bac12",
   "metadata": {},
   "source": []
  }
 ],
 "metadata": {
  "kernelspec": {
   "display_name": "Python 3 (ipykernel)",
   "language": "python",
   "name": "python3"
  },
  "language_info": {
   "codemirror_mode": {
    "name": "ipython",
    "version": 3
   },
   "file_extension": ".py",
   "mimetype": "text/x-python",
   "name": "python",
   "nbconvert_exporter": "python",
   "pygments_lexer": "ipython3",
   "version": "3.11.6"
  }
 },
 "nbformat": 4,
 "nbformat_minor": 5
}
